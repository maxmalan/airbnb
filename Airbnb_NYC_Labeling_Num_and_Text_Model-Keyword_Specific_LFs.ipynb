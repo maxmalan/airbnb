{
 "cells": [
  {
   "cell_type": "markdown",
   "metadata": {},
   "source": [
    "#### Importing libraries"
   ]
  },
  {
   "cell_type": "code",
   "execution_count": 64,
   "metadata": {
    "ExecuteTime": {
     "end_time": "2020-07-09T13:18:05.226121Z",
     "start_time": "2020-07-09T13:18:05.206942Z"
    }
   },
   "outputs": [],
   "source": [
    "# Standard Libraries\n",
    "import pandas as pd\n",
    "import numpy as np\n",
    "\n",
    "# Graphing libraries\n",
    "import matplotlib.pyplot as plt\n",
    "import seaborn as sns\n",
    "\n",
    "# Ignore warnings\n",
    "import warnings\n",
    "warnings.filterwarnings('ignore')\n",
    "\n",
    "# For keyword extraction\n",
    "from collections import Counter\n",
    "from nltk import word_tokenize, pos_tag, pos_tag_sents\n",
    "from nltk.corpus import stopwords\n",
    "#from rake_nltk import Rake\n",
    "from textblob import TextBlob\n",
    "\n",
    "# Snorkel libraries\n",
    "from snorkel.labeling import labeling_function\n",
    "from snorkel.labeling import PandasLFApplier\n",
    "from snorkel.labeling import LFAnalysis\n",
    "from snorkel.labeling.model import LabelModel\n",
    "from snorkel.labeling import labeling_function\n",
    "from snorkel.labeling.model import MajorityLabelVoter\n",
    "from snorkel.analysis import get_label_buckets\n",
    "from snorkel.labeling import LabelingFunction\n",
    "\n",
    "# SKlearn libraries:\n",
    "from sklearn.model_selection import train_test_split\n",
    "from sklearn.model_selection import RandomizedSearchCV\n",
    "from sklearn.feature_extraction.text import CountVectorizer\n",
    "from sklearn.linear_model import LogisticRegression"
   ]
  },
  {
   "cell_type": "markdown",
   "metadata": {},
   "source": [
    "#### Data loading and preprocessing:"
   ]
  },
  {
   "cell_type": "code",
   "execution_count": 65,
   "metadata": {
    "ExecuteTime": {
     "end_time": "2020-07-09T13:18:05.375711Z",
     "start_time": "2020-07-09T13:18:05.243284Z"
    }
   },
   "outputs": [],
   "source": [
    "airbnb = pd.read_csv('data/airbnbNyc.csv')"
   ]
  },
  {
   "cell_type": "code",
   "execution_count": 66,
   "metadata": {
    "ExecuteTime": {
     "end_time": "2020-07-09T13:18:05.392369Z",
     "start_time": "2020-07-09T13:18:05.376727Z"
    }
   },
   "outputs": [
    {
     "data": {
      "text/plain": [
       "(25248, 17)"
      ]
     },
     "execution_count": 66,
     "metadata": {},
     "output_type": "execute_result"
    }
   ],
   "source": [
    "airbnb.shape"
   ]
  },
  {
   "cell_type": "code",
   "execution_count": 67,
   "metadata": {
    "ExecuteTime": {
     "end_time": "2020-07-09T13:18:05.426017Z",
     "start_time": "2020-07-09T13:18:05.396886Z"
    }
   },
   "outputs": [
    {
     "name": "stdout",
     "output_type": "stream",
     "text": [
      "<class 'pandas.core.frame.DataFrame'>\n",
      "RangeIndex: 25248 entries, 0 to 25247\n",
      "Data columns (total 17 columns):\n",
      "id                                25248 non-null int64\n",
      "name                              25239 non-null object\n",
      "host_id                           25248 non-null int64\n",
      "host_name                         25239 non-null object\n",
      "neighbourhood_group               25248 non-null object\n",
      "neighbourhood                     25248 non-null object\n",
      "latitude                          25248 non-null float64\n",
      "longitude                         25248 non-null float64\n",
      "room_type                         25248 non-null object\n",
      "price                             25248 non-null int64\n",
      "minimum_nights                    25248 non-null int64\n",
      "number_of_reviews                 25248 non-null int64\n",
      "last_review                       19812 non-null object\n",
      "reviews_per_month                 19812 non-null float64\n",
      "calculated_host_listings_count    25248 non-null int64\n",
      "availability_365                  25248 non-null int64\n",
      "budget                            25248 non-null object\n",
      "dtypes: float64(3), int64(7), object(7)\n",
      "memory usage: 3.3+ MB\n"
     ]
    }
   ],
   "source": [
    "airbnb.info()"
   ]
  },
  {
   "cell_type": "code",
   "execution_count": null,
   "metadata": {},
   "outputs": [],
   "source": []
  },
  {
   "cell_type": "code",
   "execution_count": 68,
   "metadata": {
    "ExecuteTime": {
     "end_time": "2020-07-09T13:18:05.442511Z",
     "start_time": "2020-07-09T13:18:05.426531Z"
    }
   },
   "outputs": [],
   "source": [
    "# Renaming room_type column to Category to entirely reuse Amazon code:\n",
    "airbnb = airbnb.rename(columns = {'room_type' : 'Category',\n",
    "                                  'name' : 'description'})"
   ]
  },
  {
   "cell_type": "code",
   "execution_count": 69,
   "metadata": {
    "ExecuteTime": {
     "end_time": "2020-07-09T13:18:05.608138Z",
     "start_time": "2020-07-09T13:18:05.596141Z"
    }
   },
   "outputs": [],
   "source": [
    "# remove null value in the reviewText column\n",
    "airbnb = airbnb[airbnb['description'].notnull()]"
   ]
  },
  {
   "cell_type": "code",
   "execution_count": 70,
   "metadata": {
    "ExecuteTime": {
     "end_time": "2020-07-09T13:18:05.625356Z",
     "start_time": "2020-07-09T13:18:05.609642Z"
    }
   },
   "outputs": [],
   "source": [
    "df = airbnb.copy()"
   ]
  },
  {
   "cell_type": "code",
   "execution_count": 71,
   "metadata": {
    "ExecuteTime": {
     "end_time": "2020-07-09T13:18:05.642516Z",
     "start_time": "2020-07-09T13:18:05.626871Z"
    }
   },
   "outputs": [
    {
     "data": {
      "text/plain": [
       "array(['Entire home/apt', 'Private room', 'Shared room'], dtype=object)"
      ]
     },
     "execution_count": 71,
     "metadata": {},
     "output_type": "execute_result"
    }
   ],
   "source": [
    "# Get categories\n",
    "classes = df['Category'].unique()\n",
    "# Show array\n",
    "classes"
   ]
  },
  {
   "cell_type": "code",
   "execution_count": 72,
   "metadata": {
    "ExecuteTime": {
     "end_time": "2020-07-09T13:18:05.659173Z",
     "start_time": "2020-07-09T13:18:05.643531Z"
    }
   },
   "outputs": [],
   "source": [
    "# Convert classes to variables and assign numerical value\n",
    "for n, val in enumerate(classes):\n",
    "    globals()[val] = n"
   ]
  },
  {
   "cell_type": "code",
   "execution_count": 73,
   "metadata": {
    "ExecuteTime": {
     "end_time": "2020-07-09T13:18:05.675824Z",
     "start_time": "2020-07-09T13:18:05.660186Z"
    }
   },
   "outputs": [],
   "source": [
    "cls = list()\n",
    "for n, val in enumerate(classes):\n",
    "    globals()[val] = n\n",
    "    cls.append(globals()[val])"
   ]
  },
  {
   "cell_type": "code",
   "execution_count": 74,
   "metadata": {},
   "outputs": [
    {
     "data": {
      "text/plain": [
       "[0, 1, 2]"
      ]
     },
     "execution_count": 74,
     "metadata": {},
     "output_type": "execute_result"
    }
   ],
   "source": [
    "cls"
   ]
  },
  {
   "cell_type": "code",
   "execution_count": 75,
   "metadata": {
    "ExecuteTime": {
     "end_time": "2020-07-09T13:18:05.692474Z",
     "start_time": "2020-07-09T13:18:05.676839Z"
    }
   },
   "outputs": [],
   "source": [
    "# Add Abstain\n",
    "ABSTAIN  = -1"
   ]
  },
  {
   "cell_type": "markdown",
   "metadata": {},
   "source": [
    "### Labeling of Category variable:"
   ]
  },
  {
   "cell_type": "markdown",
   "metadata": {},
   "source": [
    "#### Creating dictionaries with most common keywords:"
   ]
  },
  {
   "cell_type": "code",
   "execution_count": 76,
   "metadata": {
    "ExecuteTime": {
     "end_time": "2020-07-09T13:18:05.707987Z",
     "start_time": "2020-07-09T13:18:05.694985Z"
    }
   },
   "outputs": [],
   "source": [
    "# Converting Description column to lower:\n",
    "\n",
    "df['description'] = df['description'].apply(lambda x: x.lower())"
   ]
  },
  {
   "cell_type": "code",
   "execution_count": 77,
   "metadata": {
    "ExecuteTime": {
     "end_time": "2020-07-09T13:18:08.759348Z",
     "start_time": "2020-07-09T13:18:05.710487Z"
    }
   },
   "outputs": [],
   "source": [
    "# Tokenizing reviews so that I can apply nltk.pos_tag later:\n",
    "\n",
    "df['tokens'] = df['description'].apply(lambda x: word_tokenize(x))"
   ]
  },
  {
   "cell_type": "code",
   "execution_count": 78,
   "metadata": {
    "ExecuteTime": {
     "end_time": "2020-07-09T13:19:01.542453Z",
     "start_time": "2020-07-09T13:18:08.760366Z"
    }
   },
   "outputs": [],
   "source": [
    "# Applying nltk.pos_tag on \"all tokens\" obtained with nltk.tokenize:\n",
    "\n",
    "df['tagsNltk'] = df['tokens'].apply(lambda x: pos_tag(x))"
   ]
  },
  {
   "cell_type": "code",
   "execution_count": 79,
   "metadata": {
    "ExecuteTime": {
     "end_time": "2020-07-09T13:19:01.626079Z",
     "start_time": "2020-07-09T13:19:01.543467Z"
    }
   },
   "outputs": [],
   "source": [
    "# Selecting only NN based on nltk.pos_tag:\n",
    "\n",
    "df['nounsKeywords'] = df['tagsNltk'].apply(lambda x: [word for (word,pos) in x if(pos[:2] == 'NN' \\\n",
    "                                                                               or pos[:2] == 'NNS' \\\n",
    "                                                                               or pos[:2] == 'NNP' \\\n",
    "                                                                               or pos[:2] == 'NNPS' \\\n",
    "                                                                               or pos[:2] == 'JJ' \\\n",
    "                                                                               or pos[:2] == 'JJR' \\\n",
    "                                                                               or pos[:2] == 'JJS' \\\n",
    "                                                                               or pos[:2] == 'VB')])"
   ]
  },
  {
   "cell_type": "code",
   "execution_count": 80,
   "metadata": {
    "ExecuteTime": {
     "end_time": "2020-07-09T13:19:01.642375Z",
     "start_time": "2020-07-09T13:19:01.626600Z"
    }
   },
   "outputs": [],
   "source": [
    "# Importing stop words and excluding them from the nouns\n",
    "\n",
    "stop_words = set(stopwords.words('english'))"
   ]
  },
  {
   "cell_type": "code",
   "execution_count": 81,
   "metadata": {
    "ExecuteTime": {
     "end_time": "2020-07-09T13:19:01.726045Z",
     "start_time": "2020-07-09T13:19:01.643386Z"
    }
   },
   "outputs": [
    {
     "name": "stdout",
     "output_type": "stream",
     "text": [
      "{'Entire home/apt': ['apartment', 'studio', 'bedroom', 'apt', 'east', 'williamsburg', 'park', 'spacious', 'village', 'cozy'], 'Private room': ['room', 'private', 'bedroom', 'cozy', 'williamsburg', 'apartment', 'east', 'manhattan', 'bushwick', 'spacious'], 'Shared room': ['room', 'shared', 'manhattan', 'cozy', 'apartment', 'bed', 'apt', 'east', 'central', 'times']}\n"
     ]
    }
   ],
   "source": [
    "### Creating Dictionary with keywords per category\n",
    "mydict = {}\n",
    "\n",
    "for cat in list(df['Category'].unique()):\n",
    "    mydict[cat] = [df[df['Category'] == cat]['nounsKeywords'].tolist()]\n",
    "    \n",
    "    mydict[cat][0] = [item for items in mydict[cat][0] for item in items]\n",
    "    \n",
    "    mydict[cat] = Counter(mydict[cat][0]).most_common(10)\n",
    "    \n",
    "    mydict[cat] = [i[0] for i in mydict[cat]]\n",
    "    \n",
    "    mydict[cat] = [w for w in mydict[cat] if not w in stop_words]\n",
    "    \n",
    "#    mydict[cat] = [w for w in mydict[cat] if not w in nounsToExclude]\n",
    "    \n",
    "print(mydict)"
   ]
  },
  {
   "cell_type": "code",
   "execution_count": 82,
   "metadata": {
    "ExecuteTime": {
     "end_time": "2020-07-09T13:19:23.174560Z",
     "start_time": "2020-07-09T13:19:23.143419Z"
    }
   },
   "outputs": [],
   "source": [
    "# Creating a list with all values in dictionaries:\n",
    "\n",
    "allKeywords = []\n",
    "\n",
    "for cat in list(df['Category'].unique()):\n",
    "    allKeywords.append(mydict[cat])"
   ]
  },
  {
   "cell_type": "code",
   "execution_count": 83,
   "metadata": {
    "ExecuteTime": {
     "end_time": "2020-07-09T13:19:23.525200Z",
     "start_time": "2020-07-09T13:19:23.509540Z"
    }
   },
   "outputs": [],
   "source": [
    "# Flatten allKeywords into a single list (it is now a list of lists):\n",
    "\n",
    "allKeywords = [val for sublist in allKeywords for val in sublist]"
   ]
  },
  {
   "cell_type": "code",
   "execution_count": 84,
   "metadata": {
    "ExecuteTime": {
     "end_time": "2020-07-09T13:19:23.958670Z",
     "start_time": "2020-07-09T13:19:23.942998Z"
    }
   },
   "outputs": [],
   "source": [
    "# Counting how many times keywords are occurring in the various dictionaries\n",
    "\n",
    "mostCommonKeywordsCount = Counter(allKeywords)"
   ]
  },
  {
   "cell_type": "code",
   "execution_count": 85,
   "metadata": {
    "ExecuteTime": {
     "end_time": "2020-07-09T13:19:26.374502Z",
     "start_time": "2020-07-09T13:19:26.343100Z"
    },
    "scrolled": true
   },
   "outputs": [
    {
     "data": {
      "text/plain": [
       "[('apartment', 3),\n",
       " ('east', 3),\n",
       " ('cozy', 3),\n",
       " ('bedroom', 2),\n",
       " ('apt', 2),\n",
       " ('williamsburg', 2),\n",
       " ('spacious', 2),\n",
       " ('room', 2),\n",
       " ('manhattan', 2),\n",
       " ('studio', 1),\n",
       " ('park', 1),\n",
       " ('village', 1),\n",
       " ('private', 1),\n",
       " ('bushwick', 1),\n",
       " ('shared', 1),\n",
       " ('bed', 1),\n",
       " ('central', 1),\n",
       " ('times', 1)]"
      ]
     },
     "execution_count": 85,
     "metadata": {},
     "output_type": "execute_result"
    }
   ],
   "source": [
    "# View of keywords that are common to different dictionaries:\n",
    "\n",
    "mostCommonKeywordsCount.most_common()"
   ]
  },
  {
   "cell_type": "code",
   "execution_count": 86,
   "metadata": {
    "ExecuteTime": {
     "end_time": "2020-07-09T13:19:26.541987Z",
     "start_time": "2020-07-09T13:19:26.526246Z"
    }
   },
   "outputs": [],
   "source": [
    "# Creating a dictionary of words that have at least min_threshold occurrencies:\n",
    "\n",
    "mostCommonKeywords = {x: count for x, count in mostCommonKeywordsCount.items() if count > 2}"
   ]
  },
  {
   "cell_type": "code",
   "execution_count": 87,
   "metadata": {
    "ExecuteTime": {
     "end_time": "2020-07-09T13:19:26.708603Z",
     "start_time": "2020-07-09T13:19:26.692933Z"
    }
   },
   "outputs": [],
   "source": [
    "# Creating list of keywords to exclude\n",
    "\n",
    "keywordsToExclude = mostCommonKeywords.keys()\n"
   ]
  },
  {
   "cell_type": "code",
   "execution_count": 88,
   "metadata": {
    "ExecuteTime": {
     "end_time": "2020-07-09T13:19:26.892417Z",
     "start_time": "2020-07-09T13:19:26.875268Z"
    }
   },
   "outputs": [
    {
     "name": "stdout",
     "output_type": "stream",
     "text": [
      "{'Entire home/apt': ['studio', 'bedroom', 'apt', 'williamsburg', 'park', 'spacious', 'village'], 'Private room': ['room', 'private', 'bedroom', 'williamsburg', 'manhattan', 'bushwick', 'spacious'], 'Shared room': ['room', 'shared', 'manhattan', 'bed', 'apt', 'central', 'times']}\n"
     ]
    }
   ],
   "source": [
    "# Adjusting dictionaries, based on new filtered keywords:\n",
    "\n",
    "mydictFiltered = {}\n",
    "\n",
    "for cat in list(df['Category'].unique()):\n",
    "    \n",
    "    mydictFiltered[cat] = [w for w in mydict[cat] if not w in keywordsToExclude]\n",
    "    \n",
    "print(mydictFiltered)"
   ]
  },
  {
   "cell_type": "code",
   "execution_count": 89,
   "metadata": {
    "ExecuteTime": {
     "end_time": "2020-07-09T13:19:27.058692Z",
     "start_time": "2020-07-09T13:19:27.042935Z"
    }
   },
   "outputs": [
    {
     "data": {
      "text/plain": [
       "{'Entire home/apt': ['studio',\n",
       "  'bedroom',\n",
       "  'apt',\n",
       "  'williamsburg',\n",
       "  'park',\n",
       "  'spacious',\n",
       "  'village'],\n",
       " 'Private room': ['room',\n",
       "  'private',\n",
       "  'bedroom',\n",
       "  'williamsburg',\n",
       "  'manhattan',\n",
       "  'bushwick',\n",
       "  'spacious'],\n",
       " 'Shared room': ['room',\n",
       "  'shared',\n",
       "  'manhattan',\n",
       "  'bed',\n",
       "  'apt',\n",
       "  'central',\n",
       "  'times']}"
      ]
     },
     "execution_count": 89,
     "metadata": {},
     "output_type": "execute_result"
    }
   ],
   "source": [
    "# Dictionaries generated \n",
    "\n",
    "mydictFiltered"
   ]
  },
  {
   "cell_type": "code",
   "execution_count": 90,
   "metadata": {
    "ExecuteTime": {
     "end_time": "2020-07-09T13:19:28.425917Z",
     "start_time": "2020-07-09T13:19:28.393621Z"
    }
   },
   "outputs": [],
   "source": [
    "import json\n",
    "with open('data.json', 'w') as fp:\n",
    "    json.dump(mydictFiltered, fp)"
   ]
  },
  {
   "cell_type": "markdown",
   "metadata": {},
   "source": [
    "#### Creating Keyword Look Ups Labelling Functions"
   ]
  },
  {
   "cell_type": "code",
   "execution_count": 91,
   "metadata": {
    "scrolled": true
   },
   "outputs": [
    {
     "data": {
      "text/plain": [
       "{'Entire home/apt': ['studio',\n",
       "  'bedroom',\n",
       "  'apt',\n",
       "  'williamsburg',\n",
       "  'park',\n",
       "  'spacious',\n",
       "  'village'],\n",
       " 'Private room': ['room',\n",
       "  'private',\n",
       "  'bedroom',\n",
       "  'williamsburg',\n",
       "  'manhattan',\n",
       "  'bushwick',\n",
       "  'spacious'],\n",
       " 'Shared room': ['room',\n",
       "  'shared',\n",
       "  'manhattan',\n",
       "  'bed',\n",
       "  'apt',\n",
       "  'central',\n",
       "  'times']}"
      ]
     },
     "execution_count": 91,
     "metadata": {},
     "output_type": "execute_result"
    }
   ],
   "source": [
    "mydictFiltered"
   ]
  },
  {
   "cell_type": "code",
   "execution_count": 92,
   "metadata": {},
   "outputs": [],
   "source": [
    "labels = cls"
   ]
  },
  {
   "cell_type": "code",
   "execution_count": 93,
   "metadata": {},
   "outputs": [
    {
     "data": {
      "text/plain": [
       "[0, 1, 2]"
      ]
     },
     "execution_count": 93,
     "metadata": {},
     "output_type": "execute_result"
    }
   ],
   "source": [
    "labels"
   ]
  },
  {
   "cell_type": "code",
   "execution_count": 94,
   "metadata": {},
   "outputs": [
    {
     "data": {
      "text/plain": [
       "[['studio', 'bedroom', 'apt', 'williamsburg', 'park', 'spacious', 'village'],\n",
       " ['room',\n",
       "  'private',\n",
       "  'bedroom',\n",
       "  'williamsburg',\n",
       "  'manhattan',\n",
       "  'bushwick',\n",
       "  'spacious'],\n",
       " ['room', 'shared', 'manhattan', 'bed', 'apt', 'central', 'times']]"
      ]
     },
     "execution_count": 94,
     "metadata": {},
     "output_type": "execute_result"
    }
   ],
   "source": [
    "keys = list(mydictFiltered.values())\n",
    "keys"
   ]
  },
  {
   "cell_type": "markdown",
   "metadata": {},
   "source": [
    "#### Creating Keyword Specific Labelling Functions"
   ]
  },
  {
   "cell_type": "code",
   "execution_count": 95,
   "metadata": {},
   "outputs": [],
   "source": [
    "def keyword_lookup(x, keywords, label):\n",
    "    return label if keywords in x.tokens else ABSTAIN\n",
    "\n",
    "\n",
    "def make_keyword_lf(keywords, label):\n",
    "            return LabelingFunction(\n",
    "                name=f\"keyword_{keywords}_{label}\",\n",
    "                f=keyword_lookup,\n",
    "                resources=dict(keywords=keywords, label=label),\n",
    "            )"
   ]
  },
  {
   "cell_type": "code",
   "execution_count": 96,
   "metadata": {},
   "outputs": [],
   "source": [
    "lfs = list()\n",
    "\n",
    "for i in range(0, len(keys)): \n",
    "    for j in range(0, len(keys[i])):\n",
    "               mk = make_keyword_lf(keywords = keys[i][j], label = labels[i])\n",
    "               lfs.append(mk)"
   ]
  },
  {
   "cell_type": "code",
   "execution_count": 97,
   "metadata": {},
   "outputs": [
    {
     "data": {
      "text/plain": [
       "[LabelingFunction keyword_studio_0, Preprocessors: [],\n",
       " LabelingFunction keyword_bedroom_0, Preprocessors: [],\n",
       " LabelingFunction keyword_apt_0, Preprocessors: [],\n",
       " LabelingFunction keyword_williamsburg_0, Preprocessors: [],\n",
       " LabelingFunction keyword_park_0, Preprocessors: [],\n",
       " LabelingFunction keyword_spacious_0, Preprocessors: [],\n",
       " LabelingFunction keyword_village_0, Preprocessors: [],\n",
       " LabelingFunction keyword_room_1, Preprocessors: [],\n",
       " LabelingFunction keyword_private_1, Preprocessors: [],\n",
       " LabelingFunction keyword_bedroom_1, Preprocessors: [],\n",
       " LabelingFunction keyword_williamsburg_1, Preprocessors: [],\n",
       " LabelingFunction keyword_manhattan_1, Preprocessors: [],\n",
       " LabelingFunction keyword_bushwick_1, Preprocessors: [],\n",
       " LabelingFunction keyword_spacious_1, Preprocessors: [],\n",
       " LabelingFunction keyword_room_2, Preprocessors: [],\n",
       " LabelingFunction keyword_shared_2, Preprocessors: [],\n",
       " LabelingFunction keyword_manhattan_2, Preprocessors: [],\n",
       " LabelingFunction keyword_bed_2, Preprocessors: [],\n",
       " LabelingFunction keyword_apt_2, Preprocessors: [],\n",
       " LabelingFunction keyword_central_2, Preprocessors: [],\n",
       " LabelingFunction keyword_times_2, Preprocessors: []]"
      ]
     },
     "execution_count": 97,
     "metadata": {},
     "output_type": "execute_result"
    }
   ],
   "source": [
    "lfs"
   ]
  },
  {
   "cell_type": "markdown",
   "metadata": {},
   "source": [
    "---"
   ]
  },
  {
   "cell_type": "markdown",
   "metadata": {},
   "source": [
    "#### Finding numerical price threshold per cagtegory:"
   ]
  },
  {
   "cell_type": "code",
   "execution_count": 98,
   "metadata": {
    "ExecuteTime": {
     "end_time": "2020-07-09T13:20:39.340782Z",
     "start_time": "2020-07-09T13:20:39.309542Z"
    }
   },
   "outputs": [],
   "source": [
    "### Generating summary table to identify distribution:\n",
    "\n",
    "ent = pd.DataFrame(airbnb[airbnb['Category'] == 'Entire home/apt']['price'].describe()).transpose().rename(index = {'price':'Entire home/apt'})\n",
    "pri = pd.DataFrame(airbnb[airbnb['Category'] == 'Private room']['price'].describe()).transpose().rename(index = {'price':'Private room'}) \n",
    "sha = pd.DataFrame(airbnb[airbnb['Category'] == 'Shared room']['price'].describe()).transpose().rename(index = {'price':'Shared room'})\n",
    "summaryDf = pd.concat([ent, pri, sha])"
   ]
  },
  {
   "cell_type": "code",
   "execution_count": 99,
   "metadata": {
    "ExecuteTime": {
     "end_time": "2020-07-09T13:20:39.609098Z",
     "start_time": "2020-07-09T13:20:39.593342Z"
    }
   },
   "outputs": [],
   "source": [
    "# Resetting index as a column, to make it all a dataframe for later usage\n",
    "\n",
    "summaryDf.reset_index(level=0, inplace = True)"
   ]
  },
  {
   "cell_type": "code",
   "execution_count": 100,
   "metadata": {
    "ExecuteTime": {
     "end_time": "2020-07-09T13:20:40.075716Z",
     "start_time": "2020-07-09T13:20:40.043180Z"
    }
   },
   "outputs": [
    {
     "data": {
      "text/html": [
       "<div>\n",
       "<style scoped>\n",
       "    .dataframe tbody tr th:only-of-type {\n",
       "        vertical-align: middle;\n",
       "    }\n",
       "\n",
       "    .dataframe tbody tr th {\n",
       "        vertical-align: top;\n",
       "    }\n",
       "\n",
       "    .dataframe thead th {\n",
       "        text-align: right;\n",
       "    }\n",
       "</style>\n",
       "<table border=\"1\" class=\"dataframe\">\n",
       "  <thead>\n",
       "    <tr style=\"text-align: right;\">\n",
       "      <th></th>\n",
       "      <th>index</th>\n",
       "      <th>count</th>\n",
       "      <th>mean</th>\n",
       "      <th>std</th>\n",
       "      <th>min</th>\n",
       "      <th>25%</th>\n",
       "      <th>50%</th>\n",
       "      <th>75%</th>\n",
       "      <th>max</th>\n",
       "    </tr>\n",
       "  </thead>\n",
       "  <tbody>\n",
       "    <tr>\n",
       "      <th>0</th>\n",
       "      <td>Entire home/apt</td>\n",
       "      <td>14113.0</td>\n",
       "      <td>227.824205</td>\n",
       "      <td>308.461037</td>\n",
       "      <td>0.0</td>\n",
       "      <td>130.0</td>\n",
       "      <td>175.0</td>\n",
       "      <td>250.0</td>\n",
       "      <td>10000.0</td>\n",
       "    </tr>\n",
       "    <tr>\n",
       "      <th>1</th>\n",
       "      <td>Private room</td>\n",
       "      <td>10552.0</td>\n",
       "      <td>96.956406</td>\n",
       "      <td>187.732610</td>\n",
       "      <td>0.0</td>\n",
       "      <td>60.0</td>\n",
       "      <td>76.0</td>\n",
       "      <td>100.0</td>\n",
       "      <td>10000.0</td>\n",
       "    </tr>\n",
       "    <tr>\n",
       "      <th>2</th>\n",
       "      <td>Shared room</td>\n",
       "      <td>574.0</td>\n",
       "      <td>83.679443</td>\n",
       "      <td>123.181112</td>\n",
       "      <td>0.0</td>\n",
       "      <td>39.0</td>\n",
       "      <td>60.0</td>\n",
       "      <td>80.0</td>\n",
       "      <td>1800.0</td>\n",
       "    </tr>\n",
       "  </tbody>\n",
       "</table>\n",
       "</div>"
      ],
      "text/plain": [
       "             index    count        mean         std  min    25%    50%    75%  \\\n",
       "0  Entire home/apt  14113.0  227.824205  308.461037  0.0  130.0  175.0  250.0   \n",
       "1     Private room  10552.0   96.956406  187.732610  0.0   60.0   76.0  100.0   \n",
       "2      Shared room    574.0   83.679443  123.181112  0.0   39.0   60.0   80.0   \n",
       "\n",
       "       max  \n",
       "0  10000.0  \n",
       "1  10000.0  \n",
       "2   1800.0  "
      ]
     },
     "execution_count": 100,
     "metadata": {},
     "output_type": "execute_result"
    }
   ],
   "source": [
    "summaryDf"
   ]
  },
  {
   "cell_type": "code",
   "execution_count": 101,
   "metadata": {
    "ExecuteTime": {
     "end_time": "2020-07-09T13:20:40.492055Z",
     "start_time": "2020-07-09T13:20:40.459540Z"
    }
   },
   "outputs": [],
   "source": [
    "# Converting numerical column from flot to integer:\n",
    "\n",
    "cols = ['min', '25%', '50%', '75%', 'max']\n",
    "summaryDf[cols] = summaryDf[cols].applymap(np.int64)"
   ]
  },
  {
   "cell_type": "markdown",
   "metadata": {},
   "source": [
    "#### Creating Numerical Labelling Functions"
   ]
  },
  {
   "cell_type": "code",
   "execution_count": 102,
   "metadata": {
    "ExecuteTime": {
     "end_time": "2020-07-09T13:20:47.009052Z",
     "start_time": "2020-07-09T13:20:46.993415Z"
    }
   },
   "outputs": [],
   "source": [
    "# Defining numerical functions:\n",
    "\n",
    "def num_threshold(x, thresholdLow, thresholdHigh, label):\n",
    "    if ((x.price > thresholdLow) & (x.price < thresholdHigh)):\n",
    "        return label\n",
    "    return ABSTAIN\n",
    "\n",
    "\n",
    "def make_numerical_lf(thresholdLow, thresholdHigh, label):\n",
    "    return LabelingFunction(\n",
    "        name=f\"class_num_{label}\",\n",
    "        f=num_threshold,\n",
    "        resources=dict(thresholdLow = thresholdLow, thresholdHigh = thresholdHigh, label = label),\n",
    "    )"
   ]
  },
  {
   "cell_type": "code",
   "execution_count": 103,
   "metadata": {
    "ExecuteTime": {
     "end_time": "2020-07-09T13:20:49.025918Z",
     "start_time": "2020-07-09T13:20:49.009840Z"
    }
   },
   "outputs": [],
   "source": [
    "# Convert classes to variables and assign numerical value\n",
    "\n",
    "for n, val in enumerate(classes):\n",
    "    globals()[val] = n"
   ]
  },
  {
   "cell_type": "code",
   "execution_count": 104,
   "metadata": {
    "ExecuteTime": {
     "end_time": "2020-07-09T13:20:49.209032Z",
     "start_time": "2020-07-09T13:20:49.193379Z"
    }
   },
   "outputs": [],
   "source": [
    "# Defining lower bound threshold:\n",
    "\n",
    "tLow = summaryDf['25%'].tolist()"
   ]
  },
  {
   "cell_type": "code",
   "execution_count": 105,
   "metadata": {},
   "outputs": [
    {
     "data": {
      "text/plain": [
       "[130, 60, 39]"
      ]
     },
     "execution_count": 105,
     "metadata": {},
     "output_type": "execute_result"
    }
   ],
   "source": [
    "tLow"
   ]
  },
  {
   "cell_type": "code",
   "execution_count": 106,
   "metadata": {
    "ExecuteTime": {
     "end_time": "2020-07-09T13:20:49.392225Z",
     "start_time": "2020-07-09T13:20:49.376535Z"
    }
   },
   "outputs": [],
   "source": [
    "# Defining upper bound threshold:\n",
    "\n",
    "tHigh = summaryDf['75%'].tolist()"
   ]
  },
  {
   "cell_type": "code",
   "execution_count": 107,
   "metadata": {
    "ExecuteTime": {
     "end_time": "2020-07-09T13:20:49.725395Z",
     "start_time": "2020-07-09T13:20:49.709720Z"
    }
   },
   "outputs": [],
   "source": [
    "for i in range(0, len(classes)):\n",
    "    name_num = f\"class_num_{labels[i]}\"\n",
    "    globals()[name_num] = make_numerical_lf(thresholdLow = tLow[i], thresholdHigh = tHigh[i], label = labels[i])\n",
    "    lfs.append(globals()[name_num])"
   ]
  },
  {
   "cell_type": "code",
   "execution_count": 108,
   "metadata": {
    "ExecuteTime": {
     "end_time": "2020-07-09T13:20:49.875691Z",
     "start_time": "2020-07-09T13:20:49.860050Z"
    }
   },
   "outputs": [
    {
     "data": {
      "text/plain": [
       "[LabelingFunction keyword_studio_0, Preprocessors: [],\n",
       " LabelingFunction keyword_bedroom_0, Preprocessors: [],\n",
       " LabelingFunction keyword_apt_0, Preprocessors: [],\n",
       " LabelingFunction keyword_williamsburg_0, Preprocessors: [],\n",
       " LabelingFunction keyword_park_0, Preprocessors: [],\n",
       " LabelingFunction keyword_spacious_0, Preprocessors: [],\n",
       " LabelingFunction keyword_village_0, Preprocessors: [],\n",
       " LabelingFunction keyword_room_1, Preprocessors: [],\n",
       " LabelingFunction keyword_private_1, Preprocessors: [],\n",
       " LabelingFunction keyword_bedroom_1, Preprocessors: [],\n",
       " LabelingFunction keyword_williamsburg_1, Preprocessors: [],\n",
       " LabelingFunction keyword_manhattan_1, Preprocessors: [],\n",
       " LabelingFunction keyword_bushwick_1, Preprocessors: [],\n",
       " LabelingFunction keyword_spacious_1, Preprocessors: [],\n",
       " LabelingFunction keyword_room_2, Preprocessors: [],\n",
       " LabelingFunction keyword_shared_2, Preprocessors: [],\n",
       " LabelingFunction keyword_manhattan_2, Preprocessors: [],\n",
       " LabelingFunction keyword_bed_2, Preprocessors: [],\n",
       " LabelingFunction keyword_apt_2, Preprocessors: [],\n",
       " LabelingFunction keyword_central_2, Preprocessors: [],\n",
       " LabelingFunction keyword_times_2, Preprocessors: [],\n",
       " LabelingFunction class_num_0, Preprocessors: [],\n",
       " LabelingFunction class_num_1, Preprocessors: [],\n",
       " LabelingFunction class_num_2, Preprocessors: []]"
      ]
     },
     "execution_count": 108,
     "metadata": {},
     "output_type": "execute_result"
    }
   ],
   "source": [
    "# Checking LFs created: \n",
    "\n",
    "lfs"
   ]
  },
  {
   "cell_type": "markdown",
   "metadata": {},
   "source": [
    "#### Train and test split:"
   ]
  },
  {
   "cell_type": "code",
   "execution_count": 109,
   "metadata": {
    "ExecuteTime": {
     "end_time": "2020-07-09T13:19:30.792763Z",
     "start_time": "2020-07-09T13:19:30.777126Z"
    }
   },
   "outputs": [
    {
     "name": "stdout",
     "output_type": "stream",
     "text": [
      "{'Entire home/apt': 0, 'Private room': 1, 'Shared room': 2}\n"
     ]
    }
   ],
   "source": [
    "# Creating a dictionary to map category variable:\n",
    "cat = dict(zip(classes, cls))\n",
    "print(cat)"
   ]
  },
  {
   "cell_type": "code",
   "execution_count": 110,
   "metadata": {
    "ExecuteTime": {
     "end_time": "2020-07-09T13:19:30.992739Z",
     "start_time": "2020-07-09T13:19:30.975602Z"
    }
   },
   "outputs": [],
   "source": [
    "# Reclassifying category into numerical in the dataframe:\n",
    "df['Category'] = df['Category'].map(cat)"
   ]
  },
  {
   "cell_type": "code",
   "execution_count": 111,
   "metadata": {
    "ExecuteTime": {
     "end_time": "2020-07-09T13:19:31.126152Z",
     "start_time": "2020-07-09T13:19:31.093089Z"
    }
   },
   "outputs": [],
   "source": [
    "# Train and test split:\n",
    "\n",
    "X = df.drop(['Category'], axis = 1)"
   ]
  },
  {
   "cell_type": "code",
   "execution_count": 112,
   "metadata": {
    "ExecuteTime": {
     "end_time": "2020-07-09T13:19:31.275858Z",
     "start_time": "2020-07-09T13:19:31.259720Z"
    }
   },
   "outputs": [],
   "source": [
    "y = df['Category']"
   ]
  },
  {
   "cell_type": "code",
   "execution_count": 113,
   "metadata": {
    "ExecuteTime": {
     "end_time": "2020-07-09T13:19:31.475711Z",
     "start_time": "2020-07-09T13:19:31.393221Z"
    }
   },
   "outputs": [],
   "source": [
    "X_train, X_test, y_train, y_test = train_test_split(X, y, test_size = 0.20, random_state=42)"
   ]
  },
  {
   "cell_type": "markdown",
   "metadata": {},
   "source": [
    "#### Applying Labeling Models:"
   ]
  },
  {
   "cell_type": "code",
   "execution_count": 114,
   "metadata": {
    "ExecuteTime": {
     "end_time": "2020-07-09T13:19:55.226092Z",
     "start_time": "2020-07-09T13:19:50.071987Z"
    },
    "scrolled": true
   },
   "outputs": [
    {
     "name": "stderr",
     "output_type": "stream",
     "text": [
      "100%|███████████████████████████████████████████████████████████████████████████| 20191/20191 [00:41<00:00, 482.39it/s]\n",
      "100%|█████████████████████████████████████████████████████████████████████████████| 5048/5048 [00:09<00:00, 559.04it/s]\n"
     ]
    },
    {
     "data": {
      "text/html": [
       "<div>\n",
       "<style scoped>\n",
       "    .dataframe tbody tr th:only-of-type {\n",
       "        vertical-align: middle;\n",
       "    }\n",
       "\n",
       "    .dataframe tbody tr th {\n",
       "        vertical-align: top;\n",
       "    }\n",
       "\n",
       "    .dataframe thead th {\n",
       "        text-align: right;\n",
       "    }\n",
       "</style>\n",
       "<table border=\"1\" class=\"dataframe\">\n",
       "  <thead>\n",
       "    <tr style=\"text-align: right;\">\n",
       "      <th></th>\n",
       "      <th>j</th>\n",
       "      <th>Polarity</th>\n",
       "      <th>Coverage</th>\n",
       "      <th>Overlaps</th>\n",
       "      <th>Conflicts</th>\n",
       "    </tr>\n",
       "  </thead>\n",
       "  <tbody>\n",
       "    <tr>\n",
       "      <th>keyword_studio_0</th>\n",
       "      <td>0</td>\n",
       "      <td>[0]</td>\n",
       "      <td>0.094894</td>\n",
       "      <td>0.076173</td>\n",
       "      <td>0.042098</td>\n",
       "    </tr>\n",
       "    <tr>\n",
       "      <th>keyword_bedroom_0</th>\n",
       "      <td>1</td>\n",
       "      <td>[0]</td>\n",
       "      <td>0.159576</td>\n",
       "      <td>0.159576</td>\n",
       "      <td>0.159576</td>\n",
       "    </tr>\n",
       "    <tr>\n",
       "      <th>keyword_apt_0</th>\n",
       "      <td>2</td>\n",
       "      <td>[0]</td>\n",
       "      <td>0.105988</td>\n",
       "      <td>0.105988</td>\n",
       "      <td>0.105988</td>\n",
       "    </tr>\n",
       "    <tr>\n",
       "      <th>keyword_williamsburg_0</th>\n",
       "      <td>3</td>\n",
       "      <td>[0]</td>\n",
       "      <td>0.098460</td>\n",
       "      <td>0.098460</td>\n",
       "      <td>0.098460</td>\n",
       "    </tr>\n",
       "    <tr>\n",
       "      <th>keyword_park_0</th>\n",
       "      <td>4</td>\n",
       "      <td>[0]</td>\n",
       "      <td>0.069387</td>\n",
       "      <td>0.062503</td>\n",
       "      <td>0.054381</td>\n",
       "    </tr>\n",
       "    <tr>\n",
       "      <th>keyword_spacious_0</th>\n",
       "      <td>5</td>\n",
       "      <td>[0]</td>\n",
       "      <td>0.078302</td>\n",
       "      <td>0.078302</td>\n",
       "      <td>0.078302</td>\n",
       "    </tr>\n",
       "    <tr>\n",
       "      <th>keyword_village_0</th>\n",
       "      <td>6</td>\n",
       "      <td>[0]</td>\n",
       "      <td>0.067159</td>\n",
       "      <td>0.055371</td>\n",
       "      <td>0.037442</td>\n",
       "    </tr>\n",
       "    <tr>\n",
       "      <th>keyword_room_1</th>\n",
       "      <td>7</td>\n",
       "      <td>[1]</td>\n",
       "      <td>0.189391</td>\n",
       "      <td>0.189391</td>\n",
       "      <td>0.189391</td>\n",
       "    </tr>\n",
       "    <tr>\n",
       "      <th>keyword_private_1</th>\n",
       "      <td>8</td>\n",
       "      <td>[1]</td>\n",
       "      <td>0.137289</td>\n",
       "      <td>0.130801</td>\n",
       "      <td>0.128374</td>\n",
       "    </tr>\n",
       "    <tr>\n",
       "      <th>keyword_bedroom_1</th>\n",
       "      <td>9</td>\n",
       "      <td>[1]</td>\n",
       "      <td>0.159576</td>\n",
       "      <td>0.159576</td>\n",
       "      <td>0.159576</td>\n",
       "    </tr>\n",
       "    <tr>\n",
       "      <th>keyword_williamsburg_1</th>\n",
       "      <td>10</td>\n",
       "      <td>[1]</td>\n",
       "      <td>0.098460</td>\n",
       "      <td>0.098460</td>\n",
       "      <td>0.098460</td>\n",
       "    </tr>\n",
       "    <tr>\n",
       "      <th>keyword_manhattan_1</th>\n",
       "      <td>11</td>\n",
       "      <td>[1]</td>\n",
       "      <td>0.078698</td>\n",
       "      <td>0.078698</td>\n",
       "      <td>0.078698</td>\n",
       "    </tr>\n",
       "    <tr>\n",
       "      <th>keyword_bushwick_1</th>\n",
       "      <td>12</td>\n",
       "      <td>[1]</td>\n",
       "      <td>0.049032</td>\n",
       "      <td>0.044723</td>\n",
       "      <td>0.042494</td>\n",
       "    </tr>\n",
       "    <tr>\n",
       "      <th>keyword_spacious_1</th>\n",
       "      <td>13</td>\n",
       "      <td>[1]</td>\n",
       "      <td>0.078302</td>\n",
       "      <td>0.078302</td>\n",
       "      <td>0.078302</td>\n",
       "    </tr>\n",
       "    <tr>\n",
       "      <th>keyword_room_2</th>\n",
       "      <td>14</td>\n",
       "      <td>[2]</td>\n",
       "      <td>0.189391</td>\n",
       "      <td>0.189391</td>\n",
       "      <td>0.189391</td>\n",
       "    </tr>\n",
       "    <tr>\n",
       "      <th>keyword_shared_2</th>\n",
       "      <td>15</td>\n",
       "      <td>[2]</td>\n",
       "      <td>0.009361</td>\n",
       "      <td>0.008816</td>\n",
       "      <td>0.008519</td>\n",
       "    </tr>\n",
       "    <tr>\n",
       "      <th>keyword_manhattan_2</th>\n",
       "      <td>16</td>\n",
       "      <td>[2]</td>\n",
       "      <td>0.078698</td>\n",
       "      <td>0.078698</td>\n",
       "      <td>0.078698</td>\n",
       "    </tr>\n",
       "    <tr>\n",
       "      <th>keyword_bed_2</th>\n",
       "      <td>17</td>\n",
       "      <td>[2]</td>\n",
       "      <td>0.029815</td>\n",
       "      <td>0.026002</td>\n",
       "      <td>0.025259</td>\n",
       "    </tr>\n",
       "    <tr>\n",
       "      <th>keyword_apt_2</th>\n",
       "      <td>18</td>\n",
       "      <td>[2]</td>\n",
       "      <td>0.105988</td>\n",
       "      <td>0.105988</td>\n",
       "      <td>0.105988</td>\n",
       "    </tr>\n",
       "    <tr>\n",
       "      <th>keyword_central_2</th>\n",
       "      <td>19</td>\n",
       "      <td>[2]</td>\n",
       "      <td>0.049032</td>\n",
       "      <td>0.047249</td>\n",
       "      <td>0.047001</td>\n",
       "    </tr>\n",
       "    <tr>\n",
       "      <th>keyword_times_2</th>\n",
       "      <td>20</td>\n",
       "      <td>[2]</td>\n",
       "      <td>0.023476</td>\n",
       "      <td>0.019514</td>\n",
       "      <td>0.019068</td>\n",
       "    </tr>\n",
       "    <tr>\n",
       "      <th>class_num_0</th>\n",
       "      <td>21</td>\n",
       "      <td>[0]</td>\n",
       "      <td>0.312218</td>\n",
       "      <td>0.221683</td>\n",
       "      <td>0.171760</td>\n",
       "    </tr>\n",
       "    <tr>\n",
       "      <th>class_num_1</th>\n",
       "      <td>22</td>\n",
       "      <td>[1]</td>\n",
       "      <td>0.229112</td>\n",
       "      <td>0.204844</td>\n",
       "      <td>0.200832</td>\n",
       "    </tr>\n",
       "    <tr>\n",
       "      <th>class_num_2</th>\n",
       "      <td>23</td>\n",
       "      <td>[2]</td>\n",
       "      <td>0.228666</td>\n",
       "      <td>0.208459</td>\n",
       "      <td>0.207370</td>\n",
       "    </tr>\n",
       "  </tbody>\n",
       "</table>\n",
       "</div>"
      ],
      "text/plain": [
       "                         j Polarity  Coverage  Overlaps  Conflicts\n",
       "keyword_studio_0         0      [0]  0.094894  0.076173   0.042098\n",
       "keyword_bedroom_0        1      [0]  0.159576  0.159576   0.159576\n",
       "keyword_apt_0            2      [0]  0.105988  0.105988   0.105988\n",
       "keyword_williamsburg_0   3      [0]  0.098460  0.098460   0.098460\n",
       "keyword_park_0           4      [0]  0.069387  0.062503   0.054381\n",
       "keyword_spacious_0       5      [0]  0.078302  0.078302   0.078302\n",
       "keyword_village_0        6      [0]  0.067159  0.055371   0.037442\n",
       "keyword_room_1           7      [1]  0.189391  0.189391   0.189391\n",
       "keyword_private_1        8      [1]  0.137289  0.130801   0.128374\n",
       "keyword_bedroom_1        9      [1]  0.159576  0.159576   0.159576\n",
       "keyword_williamsburg_1  10      [1]  0.098460  0.098460   0.098460\n",
       "keyword_manhattan_1     11      [1]  0.078698  0.078698   0.078698\n",
       "keyword_bushwick_1      12      [1]  0.049032  0.044723   0.042494\n",
       "keyword_spacious_1      13      [1]  0.078302  0.078302   0.078302\n",
       "keyword_room_2          14      [2]  0.189391  0.189391   0.189391\n",
       "keyword_shared_2        15      [2]  0.009361  0.008816   0.008519\n",
       "keyword_manhattan_2     16      [2]  0.078698  0.078698   0.078698\n",
       "keyword_bed_2           17      [2]  0.029815  0.026002   0.025259\n",
       "keyword_apt_2           18      [2]  0.105988  0.105988   0.105988\n",
       "keyword_central_2       19      [2]  0.049032  0.047249   0.047001\n",
       "keyword_times_2         20      [2]  0.023476  0.019514   0.019068\n",
       "class_num_0             21      [0]  0.312218  0.221683   0.171760\n",
       "class_num_1             22      [1]  0.229112  0.204844   0.200832\n",
       "class_num_2             23      [2]  0.228666  0.208459   0.207370"
      ]
     },
     "execution_count": 114,
     "metadata": {},
     "output_type": "execute_result"
    }
   ],
   "source": [
    "# Apply the LFs to the unlabeled training data\n",
    "applier = PandasLFApplier(lfs)\n",
    "L_train = applier.apply(df=X_train)\n",
    "L_test = applier.apply(df=X_test)\n",
    "LFAnalysis(L=L_train, lfs=lfs).lf_summary()"
   ]
  },
  {
   "cell_type": "code",
   "execution_count": 115,
   "metadata": {
    "ExecuteTime": {
     "end_time": "2020-07-09T13:19:58.691473Z",
     "start_time": "2020-07-09T13:19:58.676936Z"
    }
   },
   "outputs": [],
   "source": [
    "# Train the label model and compute the training labels\n",
    "label_model = LabelModel(cardinality=3, verbose=True)"
   ]
  },
  {
   "cell_type": "code",
   "execution_count": 116,
   "metadata": {
    "ExecuteTime": {
     "end_time": "2020-07-09T13:19:59.925709Z",
     "start_time": "2020-07-09T13:19:59.409669Z"
    }
   },
   "outputs": [],
   "source": [
    "label_model.fit(L_train, n_epochs=500, log_freq=50)"
   ]
  },
  {
   "cell_type": "code",
   "execution_count": 117,
   "metadata": {
    "ExecuteTime": {
     "end_time": "2020-07-09T13:20:02.442426Z",
     "start_time": "2020-07-09T13:20:02.392873Z"
    }
   },
   "outputs": [],
   "source": [
    "label_model_acc = label_model.score(L = L_test, Y = y_test, tie_break_policy=\"random\")[\"accuracy\"]\n",
    "#print(f\"{'Label Model Accuracy:':<25} {label_model_acc * 100:.1f}%\")"
   ]
  },
  {
   "cell_type": "code",
   "execution_count": 118,
   "metadata": {
    "ExecuteTime": {
     "end_time": "2020-07-09T13:20:03.891521Z",
     "start_time": "2020-07-09T13:20:03.884487Z"
    }
   },
   "outputs": [
    {
     "name": "stdout",
     "output_type": "stream",
     "text": [
      "Label Model Accuracy:     66.3%\n"
     ]
    }
   ],
   "source": [
    "print(f\"{'Label Model Accuracy:':<25} {label_model_acc * 100:.1f}%\")"
   ]
  },
  {
   "cell_type": "code",
   "execution_count": 119,
   "metadata": {
    "ExecuteTime": {
     "end_time": "2020-07-09T13:20:05.276061Z",
     "start_time": "2020-07-09T13:20:05.010182Z"
    }
   },
   "outputs": [],
   "source": [
    "# Applying Majority Vote Model and checking accuracy:\n",
    "\n",
    "majority_model = MajorityLabelVoter(cardinality = 3)\n",
    "preds_train = majority_model.predict(L = L_train)"
   ]
  },
  {
   "cell_type": "code",
   "execution_count": 120,
   "metadata": {
    "ExecuteTime": {
     "end_time": "2020-07-09T13:20:08.325476Z",
     "start_time": "2020-07-09T13:20:08.242989Z"
    }
   },
   "outputs": [],
   "source": [
    "majority_acc = majority_model.score(L = L_test, Y = y_test, tie_break_policy=\"random\")[\"accuracy\"]\n"
   ]
  },
  {
   "cell_type": "code",
   "execution_count": 121,
   "metadata": {
    "ExecuteTime": {
     "end_time": "2020-07-09T13:20:08.708188Z",
     "start_time": "2020-07-09T13:20:08.677030Z"
    },
    "scrolled": true
   },
   "outputs": [
    {
     "name": "stdout",
     "output_type": "stream",
     "text": [
      "Majority Vote Accuracy:   63.5%\n"
     ]
    }
   ],
   "source": [
    "print(f\"{'Majority Vote Accuracy:':<25} {majority_acc * 100:.1f}%\")"
   ]
  },
  {
   "cell_type": "markdown",
   "metadata": {},
   "source": [
    "---"
   ]
  },
  {
   "cell_type": "markdown",
   "metadata": {},
   "source": [
    "#### Generating final output table, including label"
   ]
  },
  {
   "cell_type": "code",
   "execution_count": 122,
   "metadata": {
    "ExecuteTime": {
     "end_time": "2020-07-09T13:20:11.976092Z",
     "start_time": "2020-07-09T13:20:11.926634Z"
    }
   },
   "outputs": [],
   "source": [
    "X_test['category_LF'] = label_model.predict(L = L_test, tie_break_policy=\"abstain\")"
   ]
  },
  {
   "cell_type": "code",
   "execution_count": 123,
   "metadata": {
    "ExecuteTime": {
     "end_time": "2020-07-09T13:20:12.925503Z",
     "start_time": "2020-07-09T13:20:12.909800Z"
    },
    "scrolled": true
   },
   "outputs": [
    {
     "name": "stdout",
     "output_type": "stream",
     "text": [
      "{0: 'Entire home/apt', 1: 'Private room', 2: 'Shared room'}\n"
     ]
    }
   ],
   "source": [
    "# Generating cat dictionary to map final label\n",
    "cat = dict(zip(cls, classes))\n",
    "print(cat)"
   ]
  },
  {
   "cell_type": "code",
   "execution_count": 124,
   "metadata": {
    "ExecuteTime": {
     "end_time": "2020-07-09T13:20:13.807641Z",
     "start_time": "2020-07-09T13:20:13.776390Z"
    }
   },
   "outputs": [],
   "source": [
    "X_test['category_label'] = X_test['category_LF'].map(cat)"
   ]
  },
  {
   "cell_type": "code",
   "execution_count": 125,
   "metadata": {
    "ExecuteTime": {
     "end_time": "2020-07-09T13:20:15.642577Z",
     "start_time": "2020-07-09T13:20:15.598249Z"
    }
   },
   "outputs": [
    {
     "data": {
      "text/html": [
       "<div>\n",
       "<style scoped>\n",
       "    .dataframe tbody tr th:only-of-type {\n",
       "        vertical-align: middle;\n",
       "    }\n",
       "\n",
       "    .dataframe tbody tr th {\n",
       "        vertical-align: top;\n",
       "    }\n",
       "\n",
       "    .dataframe thead th {\n",
       "        text-align: right;\n",
       "    }\n",
       "</style>\n",
       "<table border=\"1\" class=\"dataframe\">\n",
       "  <thead>\n",
       "    <tr style=\"text-align: right;\">\n",
       "      <th></th>\n",
       "      <th>id</th>\n",
       "      <th>description</th>\n",
       "      <th>host_id</th>\n",
       "      <th>host_name</th>\n",
       "      <th>neighbourhood_group</th>\n",
       "      <th>neighbourhood</th>\n",
       "      <th>latitude</th>\n",
       "      <th>longitude</th>\n",
       "      <th>price</th>\n",
       "      <th>minimum_nights</th>\n",
       "      <th>...</th>\n",
       "      <th>last_review</th>\n",
       "      <th>reviews_per_month</th>\n",
       "      <th>calculated_host_listings_count</th>\n",
       "      <th>availability_365</th>\n",
       "      <th>budget</th>\n",
       "      <th>tokens</th>\n",
       "      <th>tagsNltk</th>\n",
       "      <th>nounsKeywords</th>\n",
       "      <th>category_LF</th>\n",
       "      <th>category_label</th>\n",
       "    </tr>\n",
       "  </thead>\n",
       "  <tbody>\n",
       "    <tr>\n",
       "      <th>19738</th>\n",
       "      <td>13207586</td>\n",
       "      <td>beautiful 1br ues</td>\n",
       "      <td>74020712</td>\n",
       "      <td>Nicole</td>\n",
       "      <td>Manhattan</td>\n",
       "      <td>Upper East Side</td>\n",
       "      <td>40.77220</td>\n",
       "      <td>-73.95272</td>\n",
       "      <td>115</td>\n",
       "      <td>3</td>\n",
       "      <td>...</td>\n",
       "      <td>2017-02-20</td>\n",
       "      <td>0.22</td>\n",
       "      <td>1</td>\n",
       "      <td>0</td>\n",
       "      <td>Average</td>\n",
       "      <td>[beautiful, 1br, ues]</td>\n",
       "      <td>[(beautiful, JJ), (1br, CD), (ues, NNS)]</td>\n",
       "      <td>[beautiful, ues]</td>\n",
       "      <td>-1</td>\n",
       "      <td>NaN</td>\n",
       "    </tr>\n",
       "    <tr>\n",
       "      <th>21273</th>\n",
       "      <td>16965705</td>\n",
       "      <td>bright sunny manhattan getaway</td>\n",
       "      <td>3483600</td>\n",
       "      <td>Joshua</td>\n",
       "      <td>Manhattan</td>\n",
       "      <td>Washington Heights</td>\n",
       "      <td>40.83498</td>\n",
       "      <td>-73.94214</td>\n",
       "      <td>63</td>\n",
       "      <td>2</td>\n",
       "      <td>...</td>\n",
       "      <td>NaN</td>\n",
       "      <td>NaN</td>\n",
       "      <td>1</td>\n",
       "      <td>0</td>\n",
       "      <td>Cheap</td>\n",
       "      <td>[bright, sunny, manhattan, getaway]</td>\n",
       "      <td>[(bright, JJ), (sunny, JJ), (manhattan, NN), (...</td>\n",
       "      <td>[bright, sunny, manhattan, getaway]</td>\n",
       "      <td>1</td>\n",
       "      <td>Private room</td>\n",
       "    </tr>\n",
       "    <tr>\n",
       "      <th>15548</th>\n",
       "      <td>15884157</td>\n",
       "      <td>private bedroom bushwick close to l and j trains</td>\n",
       "      <td>16973022</td>\n",
       "      <td>Patrick</td>\n",
       "      <td>Brooklyn</td>\n",
       "      <td>Bushwick</td>\n",
       "      <td>40.69092</td>\n",
       "      <td>-73.91195</td>\n",
       "      <td>50</td>\n",
       "      <td>1</td>\n",
       "      <td>...</td>\n",
       "      <td>2016-11-26</td>\n",
       "      <td>0.12</td>\n",
       "      <td>1</td>\n",
       "      <td>0</td>\n",
       "      <td>Cheap</td>\n",
       "      <td>[private, bedroom, bushwick, close, to, l, and...</td>\n",
       "      <td>[(private, JJ), (bedroom, NN), (bushwick, NN),...</td>\n",
       "      <td>[private, bedroom, bushwick, l, j, trains]</td>\n",
       "      <td>1</td>\n",
       "      <td>Private room</td>\n",
       "    </tr>\n",
       "    <tr>\n",
       "      <th>12571</th>\n",
       "      <td>35915030</td>\n",
       "      <td>lovely north park slope private garden apartment</td>\n",
       "      <td>270144441</td>\n",
       "      <td>Carla &amp; Ken</td>\n",
       "      <td>Brooklyn</td>\n",
       "      <td>Park Slope</td>\n",
       "      <td>40.67817</td>\n",
       "      <td>-73.97603</td>\n",
       "      <td>145</td>\n",
       "      <td>6</td>\n",
       "      <td>...</td>\n",
       "      <td>NaN</td>\n",
       "      <td>NaN</td>\n",
       "      <td>1</td>\n",
       "      <td>14</td>\n",
       "      <td>Average</td>\n",
       "      <td>[lovely, north, park, slope, private, garden, ...</td>\n",
       "      <td>[(lovely, RB), (north, JJ), (park, JJ), (slope...</td>\n",
       "      <td>[north, park, slope, private, garden, apartment]</td>\n",
       "      <td>2</td>\n",
       "      <td>Shared room</td>\n",
       "    </tr>\n",
       "    <tr>\n",
       "      <th>20319</th>\n",
       "      <td>25058563</td>\n",
       "      <td>art studio by the park</td>\n",
       "      <td>13583715</td>\n",
       "      <td>Mona</td>\n",
       "      <td>Manhattan</td>\n",
       "      <td>Upper East Side</td>\n",
       "      <td>40.77788</td>\n",
       "      <td>-73.96114</td>\n",
       "      <td>165</td>\n",
       "      <td>30</td>\n",
       "      <td>...</td>\n",
       "      <td>2018-06-27</td>\n",
       "      <td>0.29</td>\n",
       "      <td>1</td>\n",
       "      <td>203</td>\n",
       "      <td>Average</td>\n",
       "      <td>[art, studio, by, the, park]</td>\n",
       "      <td>[(art, NN), (studio, NN), (by, IN), (the, DT),...</td>\n",
       "      <td>[art, studio, park]</td>\n",
       "      <td>0</td>\n",
       "      <td>Entire home/apt</td>\n",
       "    </tr>\n",
       "  </tbody>\n",
       "</table>\n",
       "<p>5 rows × 21 columns</p>\n",
       "</div>"
      ],
      "text/plain": [
       "             id                                       description    host_id  \\\n",
       "19738  13207586                                 beautiful 1br ues   74020712   \n",
       "21273  16965705                    bright sunny manhattan getaway    3483600   \n",
       "15548  15884157  private bedroom bushwick close to l and j trains   16973022   \n",
       "12571  35915030  lovely north park slope private garden apartment  270144441   \n",
       "20319  25058563                            art studio by the park   13583715   \n",
       "\n",
       "         host_name neighbourhood_group       neighbourhood  latitude  \\\n",
       "19738       Nicole           Manhattan     Upper East Side  40.77220   \n",
       "21273       Joshua           Manhattan  Washington Heights  40.83498   \n",
       "15548      Patrick            Brooklyn            Bushwick  40.69092   \n",
       "12571  Carla & Ken            Brooklyn          Park Slope  40.67817   \n",
       "20319         Mona           Manhattan     Upper East Side  40.77788   \n",
       "\n",
       "       longitude  price  minimum_nights  ...  last_review reviews_per_month  \\\n",
       "19738  -73.95272    115               3  ...   2017-02-20              0.22   \n",
       "21273  -73.94214     63               2  ...          NaN               NaN   \n",
       "15548  -73.91195     50               1  ...   2016-11-26              0.12   \n",
       "12571  -73.97603    145               6  ...          NaN               NaN   \n",
       "20319  -73.96114    165              30  ...   2018-06-27              0.29   \n",
       "\n",
       "       calculated_host_listings_count  availability_365   budget  \\\n",
       "19738                               1                 0  Average   \n",
       "21273                               1                 0    Cheap   \n",
       "15548                               1                 0    Cheap   \n",
       "12571                               1                14  Average   \n",
       "20319                               1               203  Average   \n",
       "\n",
       "                                                  tokens  \\\n",
       "19738                              [beautiful, 1br, ues]   \n",
       "21273                [bright, sunny, manhattan, getaway]   \n",
       "15548  [private, bedroom, bushwick, close, to, l, and...   \n",
       "12571  [lovely, north, park, slope, private, garden, ...   \n",
       "20319                       [art, studio, by, the, park]   \n",
       "\n",
       "                                                tagsNltk  \\\n",
       "19738           [(beautiful, JJ), (1br, CD), (ues, NNS)]   \n",
       "21273  [(bright, JJ), (sunny, JJ), (manhattan, NN), (...   \n",
       "15548  [(private, JJ), (bedroom, NN), (bushwick, NN),...   \n",
       "12571  [(lovely, RB), (north, JJ), (park, JJ), (slope...   \n",
       "20319  [(art, NN), (studio, NN), (by, IN), (the, DT),...   \n",
       "\n",
       "                                          nounsKeywords category_LF  \\\n",
       "19738                                  [beautiful, ues]          -1   \n",
       "21273               [bright, sunny, manhattan, getaway]           1   \n",
       "15548        [private, bedroom, bushwick, l, j, trains]           1   \n",
       "12571  [north, park, slope, private, garden, apartment]           2   \n",
       "20319                               [art, studio, park]           0   \n",
       "\n",
       "        category_label  \n",
       "19738              NaN  \n",
       "21273     Private room  \n",
       "15548     Private room  \n",
       "12571      Shared room  \n",
       "20319  Entire home/apt  \n",
       "\n",
       "[5 rows x 21 columns]"
      ]
     },
     "execution_count": 125,
     "metadata": {},
     "output_type": "execute_result"
    }
   ],
   "source": [
    "X_test.head()"
   ]
  },
  {
   "cell_type": "code",
   "execution_count": 126,
   "metadata": {
    "ExecuteTime": {
     "end_time": "2020-07-09T13:20:24.509124Z",
     "start_time": "2020-07-09T13:20:24.476763Z"
    }
   },
   "outputs": [],
   "source": [
    "df_output = X_test"
   ]
  },
  {
   "cell_type": "markdown",
   "metadata": {},
   "source": [
    "---"
   ]
  }
 ],
 "metadata": {
  "kernelspec": {
   "display_name": "Python 3",
   "language": "python",
   "name": "python3"
  },
  "language_info": {
   "codemirror_mode": {
    "name": "ipython",
    "version": 3
   },
   "file_extension": ".py",
   "mimetype": "text/x-python",
   "name": "python",
   "nbconvert_exporter": "python",
   "pygments_lexer": "ipython3",
   "version": "3.7.3"
  },
  "toc": {
   "base_numbering": 1,
   "nav_menu": {},
   "number_sections": false,
   "sideBar": true,
   "skip_h1_title": false,
   "title_cell": "Table of Contents",
   "title_sidebar": "Contents",
   "toc_cell": false,
   "toc_position": {},
   "toc_section_display": true,
   "toc_window_display": true
  },
  "varInspector": {
   "cols": {
    "lenName": 16,
    "lenType": 16,
    "lenVar": 40
   },
   "kernels_config": {
    "python": {
     "delete_cmd_postfix": "",
     "delete_cmd_prefix": "del ",
     "library": "var_list.py",
     "varRefreshCmd": "print(var_dic_list())"
    },
    "r": {
     "delete_cmd_postfix": ") ",
     "delete_cmd_prefix": "rm(",
     "library": "var_list.r",
     "varRefreshCmd": "cat(var_dic_list()) "
    }
   },
   "types_to_exclude": [
    "module",
    "function",
    "builtin_function_or_method",
    "instance",
    "_Feature"
   ],
   "window_display": false
  }
 },
 "nbformat": 4,
 "nbformat_minor": 4
}
